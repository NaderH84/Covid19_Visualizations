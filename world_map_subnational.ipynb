{
 "metadata": {
  "language_info": {
   "codemirror_mode": {
    "name": "ipython",
    "version": 3
   },
   "file_extension": ".py",
   "mimetype": "text/x-python",
   "name": "python",
   "nbconvert_exporter": "python",
   "pygments_lexer": "ipython3",
   "version": "3.8.3-final"
  },
  "orig_nbformat": 2,
  "kernelspec": {
   "name": "python3",
   "display_name": "Python 3",
   "language": "python"
  }
 },
 "nbformat": 4,
 "nbformat_minor": 2,
 "cells": [
  {
   "source": [
    "## Covid-19 in Europe: Subnational Notification of new cases per 100,000 inhabitants\n",
    "\n",
    "Data available here:\n",
    "https://www.ecdc.europa.eu/en/publications-data/subnational-14-day-notification-rate-covid-19"
   ],
   "cell_type": "markdown",
   "metadata": {}
  },
  {
   "cell_type": "code",
   "execution_count": 1,
   "metadata": {},
   "outputs": [],
   "source": [
    "import pandas as pd\n",
    "import numpy as np"
   ]
  },
  {
   "cell_type": "code",
   "execution_count": 11,
   "metadata": {},
   "outputs": [
    {
     "output_type": "execute_result",
     "data": {
      "text/plain": [
       "       country          region_name nuts_code year_week  rate_14_day_per_100k  \\\n",
       "41     Austria           Burgenland      AT11  2021-W01            280.132091   \n",
       "83     Austria              Karnten      AT21  2021-W01            362.428000   \n",
       "125    Austria     Niederosterreich      AT12  2021-W01            313.196331   \n",
       "167    Austria       Oberosterreich      AT31  2021-W01            295.527615   \n",
       "209    Austria             Salzburg      AT32  2021-W01            649.651220   \n",
       "...        ...                  ...       ...       ...                   ...   \n",
       "15052   Sweden        Varmlands Lan     SE311  2021-W01            378.354566   \n",
       "15092   Sweden    Vasterbottens Lan     SE331  2021-W01            483.427971   \n",
       "15132   Sweden  Vasternorrlands Lan     SE321  2021-W01            678.745014   \n",
       "15172   Sweden          Vastmanland     SE125  2021-W01            666.961147   \n",
       "15212   Sweden      Vastra Gotaland     SE232  2021-W01            835.003106   \n",
       "\n",
       "                                               source  \n",
       "41     Epidemic intelligence, subnational weekly data  \n",
       "83     Epidemic intelligence, subnational weekly data  \n",
       "125    Epidemic intelligence, subnational weekly data  \n",
       "167    Epidemic intelligence, subnational weekly data  \n",
       "209    Epidemic intelligence, subnational weekly data  \n",
       "...                                               ...  \n",
       "15052  Epidemic intelligence, subnational weekly data  \n",
       "15092  Epidemic intelligence, subnational weekly data  \n",
       "15132  Epidemic intelligence, subnational weekly data  \n",
       "15172  Epidemic intelligence, subnational weekly data  \n",
       "15212  Epidemic intelligence, subnational weekly data  \n",
       "\n",
       "[378 rows x 6 columns]"
      ],
      "text/html": "<div>\n<style scoped>\n    .dataframe tbody tr th:only-of-type {\n        vertical-align: middle;\n    }\n\n    .dataframe tbody tr th {\n        vertical-align: top;\n    }\n\n    .dataframe thead th {\n        text-align: right;\n    }\n</style>\n<table border=\"1\" class=\"dataframe\">\n  <thead>\n    <tr style=\"text-align: right;\">\n      <th></th>\n      <th>country</th>\n      <th>region_name</th>\n      <th>nuts_code</th>\n      <th>year_week</th>\n      <th>rate_14_day_per_100k</th>\n      <th>source</th>\n    </tr>\n  </thead>\n  <tbody>\n    <tr>\n      <th>41</th>\n      <td>Austria</td>\n      <td>Burgenland</td>\n      <td>AT11</td>\n      <td>2021-W01</td>\n      <td>280.132091</td>\n      <td>Epidemic intelligence, subnational weekly data</td>\n    </tr>\n    <tr>\n      <th>83</th>\n      <td>Austria</td>\n      <td>Karnten</td>\n      <td>AT21</td>\n      <td>2021-W01</td>\n      <td>362.428000</td>\n      <td>Epidemic intelligence, subnational weekly data</td>\n    </tr>\n    <tr>\n      <th>125</th>\n      <td>Austria</td>\n      <td>Niederosterreich</td>\n      <td>AT12</td>\n      <td>2021-W01</td>\n      <td>313.196331</td>\n      <td>Epidemic intelligence, subnational weekly data</td>\n    </tr>\n    <tr>\n      <th>167</th>\n      <td>Austria</td>\n      <td>Oberosterreich</td>\n      <td>AT31</td>\n      <td>2021-W01</td>\n      <td>295.527615</td>\n      <td>Epidemic intelligence, subnational weekly data</td>\n    </tr>\n    <tr>\n      <th>209</th>\n      <td>Austria</td>\n      <td>Salzburg</td>\n      <td>AT32</td>\n      <td>2021-W01</td>\n      <td>649.651220</td>\n      <td>Epidemic intelligence, subnational weekly data</td>\n    </tr>\n    <tr>\n      <th>...</th>\n      <td>...</td>\n      <td>...</td>\n      <td>...</td>\n      <td>...</td>\n      <td>...</td>\n      <td>...</td>\n    </tr>\n    <tr>\n      <th>15052</th>\n      <td>Sweden</td>\n      <td>Varmlands Lan</td>\n      <td>SE311</td>\n      <td>2021-W01</td>\n      <td>378.354566</td>\n      <td>Epidemic intelligence, subnational weekly data</td>\n    </tr>\n    <tr>\n      <th>15092</th>\n      <td>Sweden</td>\n      <td>Vasterbottens Lan</td>\n      <td>SE331</td>\n      <td>2021-W01</td>\n      <td>483.427971</td>\n      <td>Epidemic intelligence, subnational weekly data</td>\n    </tr>\n    <tr>\n      <th>15132</th>\n      <td>Sweden</td>\n      <td>Vasternorrlands Lan</td>\n      <td>SE321</td>\n      <td>2021-W01</td>\n      <td>678.745014</td>\n      <td>Epidemic intelligence, subnational weekly data</td>\n    </tr>\n    <tr>\n      <th>15172</th>\n      <td>Sweden</td>\n      <td>Vastmanland</td>\n      <td>SE125</td>\n      <td>2021-W01</td>\n      <td>666.961147</td>\n      <td>Epidemic intelligence, subnational weekly data</td>\n    </tr>\n    <tr>\n      <th>15212</th>\n      <td>Sweden</td>\n      <td>Vastra Gotaland</td>\n      <td>SE232</td>\n      <td>2021-W01</td>\n      <td>835.003106</td>\n      <td>Epidemic intelligence, subnational weekly data</td>\n    </tr>\n  </tbody>\n</table>\n<p>378 rows × 6 columns</p>\n</div>"
     },
     "metadata": {},
     "execution_count": 11
    }
   ],
   "source": [
    "# Focus on first week of January = last year-week in dataset\n",
    "df = pd.read_csv('Covid19_subnational_14days.csv')\n",
    "df = df[df['year_week']==df['year_week'].max()]\n",
    "df"
   ]
  },
  {
   "source": [
    "The base code used to generate the Folium Worldmap was retrieved from:\n",
    "https://towardsdatascience.com/using-python-to-create-a-world-map-from-a-list-of-country-names-cd7480d03b10"
   ],
   "cell_type": "markdown",
   "metadata": {}
  },
  {
   "cell_type": "code",
   "execution_count": 3,
   "metadata": {},
   "outputs": [],
   "source": [
    "# Transform country + regional information into geolocation\n",
    "from geopy.geocoders import Nominatim\n",
    "\n",
    "geolocator = Nominatim(user_agent=\"your_app_name\")\n",
    "\n",
    "def geolocate(country):\n",
    "    try:\n",
    "        # Geolocate the center of the region\n",
    "        loc = geolocator.geocode(country)\n",
    "        # And return latitude and longitude\n",
    "        return (loc.latitude, loc.longitude)\n",
    "    except:\n",
    "        # Return missing value\n",
    "        return np.nan, np.nan\n",
    "\n",
    "df['country_region'] = df['country'] + ', ' + df['region_name']\n",
    "df['Latitude', 'Longitude'] = df['country_region'].apply(lambda x: geolocate(x))"
   ]
  },
  {
   "cell_type": "code",
   "execution_count": 6,
   "metadata": {},
   "outputs": [],
   "source": [
    "# Separate Columns for Latitude / Longitude\n",
    "df['Latitude'] = df.iloc[:,7].apply(lambda x: x[0])\n",
    "df['Longitude'] = df.iloc[:,7].apply(lambda x: x[1])\n",
    "\n",
    "import math\n",
    "df['rate_14_day_per_100k'] = df['rate_14_day_per_100k'].astype('int')"
   ]
  },
  {
   "cell_type": "code",
   "execution_count": 8,
   "metadata": {},
   "outputs": [],
   "source": [
    "# Create a european subnation map \n",
    "import folium\n",
    "from folium.plugins import MarkerCluster\n",
    "\n",
    "df_map = df.copy().dropna(how='any')\n",
    "\n",
    "#empty map\n",
    "europe_subnational_map= folium.Map(tiles=\"cartodbpositron\")\n",
    "marker_cluster = MarkerCluster().add_to(europe_subnational_map)\n",
    "\n",
    "#create popuptext for each region\n",
    "for i in range(len(df_map)):\n",
    "        lat = df_map.iloc[i]['Latitude']\n",
    "        long = df_map.iloc[i]['Longitude']\n",
    "        radius=20\n",
    "        popup_text = \"\"\"Country : {}<br>\n",
    "                    Region : {} <br>\n",
    "                    New cases (per 100,000) in past 14 days: {}<br>\"\"\"\n",
    "        popup_text = popup_text.format(df_map.iloc[i]['country'], df_map.iloc[i]['region_name'],\n",
    "                                   df_map.iloc[i]['rate_14_day_per_100k'])\n",
    "        popup_text = folium.Popup(popup_text, max_width=1000, min_width=100)\n",
    "        folium.CircleMarker(location = [lat, long], radius=radius, popup=popup_text, fill =True).add_to(marker_cluster)\n",
    "        \n",
    "\n",
    "#show the map\n",
    "europe_subnational_map\n",
    "europe_subnational_map.save('europe_subnational_map.html')\n",
    "europe_subnational_map.save('europe_subnational_map.png')"
   ]
  }
 ]
}